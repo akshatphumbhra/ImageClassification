{
  "nbformat": 4,
  "nbformat_minor": 0,
  "metadata": {
    "colab": {
      "name": "ImageClassification.ipynb",
      "provenance": [],
      "collapsed_sections": []
    },
    "kernelspec": {
      "name": "python3",
      "display_name": "Python 3"
    },
    "language_info": {
      "name": "python"
    },
    "accelerator": "GPU"
  },
  "cells": [
    {
      "cell_type": "markdown",
      "metadata": {
        "id": "ldIeJVbBmbQl"
      },
      "source": [
        "The CIFAR-10 dataset that we are using is available directly through the keras module. Therefore, it is easy to download and preprocess. "
      ]
    },
    {
      "cell_type": "code",
      "metadata": {
        "id": "MrLn_258lsbR"
      },
      "source": [
        "# Importing the dataset and other relevant modules\n",
        "from matplotlib import pyplot\n",
        "from keras.datasets import cifar10\n",
        "from keras.utils import np_utils\n",
        "from keras.models import Sequential\n",
        "from keras.layers import Conv2D\n",
        "from keras.layers import MaxPooling2D\n",
        "from keras.layers import Dense\n",
        "from keras.layers import Flatten\n",
        "from tensorflow.keras.optimizers import SGD\n",
        "from keras.layers import Dropout\n",
        "from keras.layers import BatchNormalization\n",
        "from keras.preprocessing.image import load_img\n",
        "from keras.preprocessing.image import img_to_array\n",
        "import numpy as np\n",
        "import seaborn as sns\n",
        "from sklearn.metrics import accuracy_score, precision_score, recall_score, f1_score, roc_curve, confusion_matrix"
      ],
      "execution_count": 70,
      "outputs": []
    },
    {
      "cell_type": "markdown",
      "metadata": {
        "id": "FJcHwpjXmh2Z"
      },
      "source": [
        "Below, we create our input (X) and output (Y) matrices for training our neural networks. The keras module already provides separate training and test datasets."
      ]
    },
    {
      "cell_type": "code",
      "metadata": {
        "id": "O_soLxMblyfi"
      },
      "source": [
        "# load dataset\n",
        "(trainX, trainY), (testX, testY) = cifar10.load_data()"
      ],
      "execution_count": 71,
      "outputs": []
    },
    {
      "cell_type": "markdown",
      "metadata": {
        "id": "HiFTK8P1mk1h"
      },
      "source": [
        "Now that we have our data, we need to preprocess it. Specifically, we need to convert the pixel values of the images to floats and then normalize the dataset by dividing by the highest pixel value (255)."
      ]
    },
    {
      "cell_type": "code",
      "metadata": {
        "id": "qwHjA4dDl4US"
      },
      "source": [
        "# convert from integers to floats\n",
        "trainX = trainX.astype('float32')\n",
        "testX = testX.astype('float32')\n",
        "# normalize to range 0-1\n",
        "trainX = trainX / 255.0\n",
        "testX = testX / 255.0"
      ],
      "execution_count": 72,
      "outputs": []
    },
    {
      "cell_type": "markdown",
      "metadata": {
        "id": "SR9EeJDgmnor"
      },
      "source": [
        "Finally, we need to convert our output to categorical variables for us to classify. We do this through one-hot encoding. "
      ]
    },
    {
      "cell_type": "code",
      "metadata": {
        "id": "O6J51stnl6Fg"
      },
      "source": [
        "# one hot encode target values\n",
        "trainY = np_utils.to_categorical(trainY)\n",
        "testY = np_utils.to_categorical(testY)"
      ],
      "execution_count": 73,
      "outputs": []
    },
    {
      "cell_type": "markdown",
      "metadata": {
        "id": "5ZzuqLWHUwmO"
      },
      "source": [
        "We now define our model. "
      ]
    },
    {
      "cell_type": "code",
      "metadata": {
        "id": "WETxUN-uLiDL",
        "colab": {
          "base_uri": "https://localhost:8080/"
        },
        "outputId": "cb794585-a6d8-4063-a74c-5945c01e517c"
      },
      "source": [
        "model = Sequential()\n",
        "model.add(Conv2D(32, (3, 3), activation='relu', kernel_initializer='he_uniform', padding='same', input_shape=(32, 32, 3)))\n",
        "model.add(BatchNormalization())\n",
        "model.add(Conv2D(32, (3, 3), activation='relu', kernel_initializer='he_uniform', padding='same'))\n",
        "model.add(BatchNormalization())\n",
        "model.add(MaxPooling2D((2, 2)))\n",
        "model.add(Dropout(0.2))\n",
        "model.add(Conv2D(64, (3, 3), activation='relu', kernel_initializer='he_uniform', padding='same'))\n",
        "model.add(BatchNormalization())\n",
        "model.add(Conv2D(64, (3, 3), activation='relu', kernel_initializer='he_uniform', padding='same'))\n",
        "model.add(BatchNormalization())\n",
        "model.add(MaxPooling2D((2, 2)))\n",
        "model.add(Dropout(0.3))\n",
        "model.add(Conv2D(128, (3, 3), activation='relu', kernel_initializer='he_uniform', padding='same'))\n",
        "model.add(BatchNormalization())\n",
        "model.add(Conv2D(128, (3, 3), activation='relu', kernel_initializer='he_uniform', padding='same'))\n",
        "model.add(BatchNormalization())\n",
        "model.add(MaxPooling2D((2, 2)))\n",
        "model.add(Dropout(0.4))\n",
        "model.add(Flatten())\n",
        "model.add(Dense(128, activation='relu', kernel_initializer='he_uniform'))\n",
        "model.add(BatchNormalization())\n",
        "model.add(Dropout(0.5))\n",
        "model.add(Dense(10, activation='softmax'))\n",
        "# compile model\n",
        "opt = SGD(lr=0.001, momentum=0.9)\n",
        "model.compile(optimizer=opt, loss='categorical_crossentropy', metrics=['accuracy'])"
      ],
      "execution_count": 74,
      "outputs": [
        {
          "output_type": "stream",
          "name": "stderr",
          "text": [
            "/usr/local/lib/python3.7/dist-packages/keras/optimizer_v2/gradient_descent.py:102: UserWarning: The `lr` argument is deprecated, use `learning_rate` instead.\n",
            "  super(SGD, self).__init__(name, **kwargs)\n"
          ]
        }
      ]
    },
    {
      "cell_type": "markdown",
      "metadata": {
        "id": "2yJSVliWVI8R"
      },
      "source": [
        "Compiling the model and defining the loss function and the optimizer"
      ]
    },
    {
      "cell_type": "code",
      "metadata": {
        "id": "7acj81glNSIF"
      },
      "source": [
        "opt = SGD(learning_rate=0.001, momentum=0.9)\n",
        "model.compile(optimizer=opt, loss='categorical_crossentropy', metrics=['accuracy'])"
      ],
      "execution_count": 75,
      "outputs": []
    },
    {
      "cell_type": "markdown",
      "metadata": {
        "id": "0X5btoExVOCP"
      },
      "source": [
        "We can now take a look at the summary of our model. "
      ]
    },
    {
      "cell_type": "code",
      "metadata": {
        "colab": {
          "base_uri": "https://localhost:8080/"
        },
        "id": "9sovcpZiNU37",
        "outputId": "d3003203-dcbe-4e1c-da9c-64351a5bfa8c"
      },
      "source": [
        "model.summary()"
      ],
      "execution_count": 76,
      "outputs": [
        {
          "output_type": "stream",
          "name": "stdout",
          "text": [
            "Model: \"sequential_7\"\n",
            "_________________________________________________________________\n",
            " Layer (type)                Output Shape              Param #   \n",
            "=================================================================\n",
            " conv2d_23 (Conv2D)          (None, 32, 32, 32)        896       \n",
            "                                                                 \n",
            " batch_normalization_21 (Bat  (None, 32, 32, 32)       128       \n",
            " chNormalization)                                                \n",
            "                                                                 \n",
            " conv2d_24 (Conv2D)          (None, 32, 32, 32)        9248      \n",
            "                                                                 \n",
            " batch_normalization_22 (Bat  (None, 32, 32, 32)       128       \n",
            " chNormalization)                                                \n",
            "                                                                 \n",
            " max_pooling2d_11 (MaxPoolin  (None, 16, 16, 32)       0         \n",
            " g2D)                                                            \n",
            "                                                                 \n",
            " dropout_14 (Dropout)        (None, 16, 16, 32)        0         \n",
            "                                                                 \n",
            " conv2d_25 (Conv2D)          (None, 16, 16, 64)        18496     \n",
            "                                                                 \n",
            " batch_normalization_23 (Bat  (None, 16, 16, 64)       256       \n",
            " chNormalization)                                                \n",
            "                                                                 \n",
            " conv2d_26 (Conv2D)          (None, 16, 16, 64)        36928     \n",
            "                                                                 \n",
            " batch_normalization_24 (Bat  (None, 16, 16, 64)       256       \n",
            " chNormalization)                                                \n",
            "                                                                 \n",
            " max_pooling2d_12 (MaxPoolin  (None, 8, 8, 64)         0         \n",
            " g2D)                                                            \n",
            "                                                                 \n",
            " dropout_15 (Dropout)        (None, 8, 8, 64)          0         \n",
            "                                                                 \n",
            " conv2d_27 (Conv2D)          (None, 8, 8, 128)         73856     \n",
            "                                                                 \n",
            " batch_normalization_25 (Bat  (None, 8, 8, 128)        512       \n",
            " chNormalization)                                                \n",
            "                                                                 \n",
            " conv2d_28 (Conv2D)          (None, 8, 8, 128)         147584    \n",
            "                                                                 \n",
            " batch_normalization_26 (Bat  (None, 8, 8, 128)        512       \n",
            " chNormalization)                                                \n",
            "                                                                 \n",
            " max_pooling2d_13 (MaxPoolin  (None, 4, 4, 128)        0         \n",
            " g2D)                                                            \n",
            "                                                                 \n",
            " dropout_16 (Dropout)        (None, 4, 4, 128)         0         \n",
            "                                                                 \n",
            " flatten_5 (Flatten)         (None, 2048)              0         \n",
            "                                                                 \n",
            " dense_10 (Dense)            (None, 128)               262272    \n",
            "                                                                 \n",
            " batch_normalization_27 (Bat  (None, 128)              512       \n",
            " chNormalization)                                                \n",
            "                                                                 \n",
            " dropout_17 (Dropout)        (None, 128)               0         \n",
            "                                                                 \n",
            " dense_11 (Dense)            (None, 10)                1290      \n",
            "                                                                 \n",
            "=================================================================\n",
            "Total params: 552,874\n",
            "Trainable params: 551,722\n",
            "Non-trainable params: 1,152\n",
            "_________________________________________________________________\n"
          ]
        }
      ]
    },
    {
      "cell_type": "markdown",
      "metadata": {
        "id": "N78aJFz_VVKQ"
      },
      "source": [
        "Finally, we fit the model and save its history to be able to plot it for evaluation."
      ]
    },
    {
      "cell_type": "code",
      "metadata": {
        "id": "exuU3TZkNZCM"
      },
      "source": [
        "history = model.fit(trainX, trainY, epochs=100, batch_size=64, validation_data=(testX, testY), verbose=0)"
      ],
      "execution_count": 77,
      "outputs": []
    },
    {
      "cell_type": "markdown",
      "metadata": {
        "id": "wZkZV65DVZL7"
      },
      "source": [
        "Evaluation of our model."
      ]
    },
    {
      "cell_type": "code",
      "metadata": {
        "colab": {
          "base_uri": "https://localhost:8080/"
        },
        "id": "fZauJLazN6cm",
        "outputId": "94d0a483-87e6-4708-ab69-1e8f409d8d68"
      },
      "source": [
        "_, acc = model.evaluate(testX, testY, verbose=0)\n",
        "print('> %.3f' % (acc * 100.0))"
      ],
      "execution_count": 78,
      "outputs": [
        {
          "output_type": "stream",
          "name": "stdout",
          "text": [
            "> 84.620\n"
          ]
        }
      ]
    },
    {
      "cell_type": "markdown",
      "source": [
        "We can also plot the confusion matrix for our model. Looking at it, we see that the model often confuses animals for one another. Specifically, we see that there is overlap between the predictions for cats and dogs."
      ],
      "metadata": {
        "id": "1OdnzGowl9Po"
      }
    },
    {
      "cell_type": "code",
      "source": [
        "y_pred = model.predict(testX)\n",
        "y_pred = np.argmax(y_pred,1)\n",
        "y_true = np.argmax(testY,1)\n",
        "\n",
        "print(\"Test accuracy: %g\" %(accuracy_score(y_true, y_pred)))\n",
        "print(\"Precision\", precision_score(y_true, y_pred, average=\"macro\"))\n",
        "print(\"Recall\", recall_score(y_true, y_pred, average=\"macro\"))\n",
        "print(\"F1 score\", f1_score(y_true, y_pred, average=\"macro\"))\n",
        "print(\"\\nConfusion matrix: \")\n",
        "\n",
        "sns.heatmap(conf, annot=True, fmt='d')"
      ],
      "metadata": {
        "colab": {
          "base_uri": "https://localhost:8080/",
          "height": 392
        },
        "id": "94vUL50TkwUm",
        "outputId": "528f717f-1be6-4a3c-deb7-4b3f3d93eec0"
      },
      "execution_count": 89,
      "outputs": [
        {
          "output_type": "stream",
          "name": "stdout",
          "text": [
            "Test accuracy: 0.8462\n",
            "Precision 0.8477666889139318\n",
            "Recall 0.8462\n",
            "F1 score 0.8448389331781321\n",
            "\n",
            "Confusion matrix: \n"
          ]
        },
        {
          "output_type": "execute_result",
          "data": {
            "text/plain": [
              "<matplotlib.axes._subplots.AxesSubplot at 0x7f89a94aeed0>"
            ]
          },
          "metadata": {},
          "execution_count": 89
        },
        {
          "output_type": "display_data",
          "data": {
            "image/png": "[encoded data removed]",
            "text/plain": [
              "<Figure size 432x288 with 2 Axes>"
            ]
          },
          "metadata": {
            "needs_background": "light"
          }
        }
      ]
    },
    {
      "cell_type": "markdown",
      "source": [
        "Now we can plot our loss and accuracy to see how well our model was trained."
      ],
      "metadata": {
        "id": "UsGxvsgPMu7e"
      }
    },
    {
      "cell_type": "code",
      "source": [
        "# plot loss\n",
        "pyplot.subplot(211)\n",
        "pyplot.title('Cross Entropy Loss')\n",
        "pyplot.plot(history.history['loss'], color='blue', label='train')\n",
        "pyplot.plot(history.history['val_loss'], color='orange', label='test')\n",
        "# plot accuracy\n",
        "pyplot.subplot(212)\n",
        "pyplot.title('Classification Accuracy')\n",
        "pyplot.plot(history.history['accuracy'], color='blue', label='train')\n",
        "pyplot.plot(history.history['val_accuracy'], color='orange', label='test')\n",
        "pyplot.show()"
      ],
      "metadata": {
        "colab": {
          "base_uri": "https://localhost:8080/",
          "height": 281
        },
        "id": "Gbl_T25lMt-n",
        "outputId": "b6f51362-9a95-462b-8d81-c04cf9b32cd0"
      },
      "execution_count": 81,
      "outputs": [
        {
          "output_type": "display_data",
          "data": {
            "image/png": "[encoded data removed]",
            "text/plain": [
              "<Figure size 432x288 with 2 Axes>"
            ]
          },
          "metadata": {
            "needs_background": "light"
          }
        }
      ]
    },
    {
      "cell_type": "code",
      "source": [
        "# Function to load and prepare the image\n",
        "def load_image(filename):\n",
        "\t# load the image\n",
        "\timg = load_img(filename, target_size=(32, 32))\n",
        "\t# convert to array\n",
        "\timg = img_to_array(img)\n",
        "\t# reshape into a single sample with 3 channels\n",
        "\timg = img.reshape(1, 32, 32, 3)\n",
        "\t# prepare pixel data\n",
        "\timg = img.astype('float32')\n",
        "\timg = img / 255.0\n",
        "\treturn img"
      ],
      "metadata": {
        "id": "UAskANRo39Fo"
      },
      "execution_count": 82,
      "outputs": []
    },
    {
      "cell_type": "markdown",
      "source": [
        "Here, we can start making predictions about new images that we have not seen before. "
      ],
      "metadata": {
        "id": "84FFkSY_NFix"
      }
    },
    {
      "cell_type": "code",
      "source": [
        "results = {\n",
        "    0:'aeroplane',\n",
        "    1:'automobile',\n",
        "    2:'bird',\n",
        "    3:'cat',\n",
        "    4:'deer',\n",
        "    5:'dog',\n",
        "    6:'frog',\n",
        "    7:'horse',\n",
        "    8:'ship',\n",
        "    9:'truck'\n",
        "}\n",
        "\n",
        "im=load_image(\"plane.jpg\")\n",
        "\n",
        "pred=np.argmax(model.predict([im])[0], axis=-1)\n",
        "print(pred, results[pred])"
      ],
      "metadata": {
        "colab": {
          "base_uri": "https://localhost:8080/"
        },
        "id": "p2Wx9dAHJeMU",
        "outputId": "7df2af2d-0262-4d36-b77b-2395f675f315"
      },
      "execution_count": 84,
      "outputs": [
        {
          "output_type": "stream",
          "name": "stdout",
          "text": [
            "0 aeroplane\n"
          ]
        }
      ]
    }
  ]
}